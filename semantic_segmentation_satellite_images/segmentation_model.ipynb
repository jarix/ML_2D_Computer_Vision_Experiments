{
 "cells": [
  {
   "cell_type": "markdown",
   "id": "de89b28d",
   "metadata": {},
   "source": [
    "# Segmentation Model"
   ]
  },
  {
   "cell_type": "code",
   "execution_count": 1,
   "id": "a373478f",
   "metadata": {},
   "outputs": [
    {
     "name": "stderr",
     "output_type": "stream",
     "text": [
      "/home/jari/MyGithub/ML_2D_Computer_Vision_Experiments/semantic_segmentation_satellite_images/.venv/lib/python3.12/site-packages/tqdm/auto.py:21: TqdmWarning: IProgress not found. Please update jupyter and ipywidgets. See https://ipywidgets.readthedocs.io/en/stable/user_install.html\n",
      "  from .autonotebook import tqdm as notebook_tqdm\n"
     ]
    }
   ],
   "source": [
    "# Prerequisites\n",
    "import numpy as np\n",
    "import seaborn as sns\n",
    "import matplotlib.pyplot as plt\n",
    "import torch\n",
    "import torch.nn as nn\n",
    "from torch.utils.data import DataLoader\n",
    "from segmentation_dataset import SegmentationDataset\n",
    "import segmentation_models_pytorch as smp \n",
    "\n"
   ]
  },
  {
   "cell_type": "markdown",
   "id": "f111198a",
   "metadata": {},
   "source": [
    "### Check Running Environment"
   ]
  },
  {
   "cell_type": "code",
   "execution_count": 2,
   "id": "e086b188",
   "metadata": {},
   "outputs": [
    {
     "name": "stdout",
     "output_type": "stream",
     "text": [
      "Running in Colab: False\n",
      "Using  cuda\n"
     ]
    }
   ],
   "source": [
    "# Check if notebook being run in Colab or locally  \n",
    "try:\n",
    "    import google.colab\n",
    "    IN_COLAB = True\n",
    "except ImportError:\n",
    "    IN_COLAB = False\n",
    "print (f'Running in Colab: {IN_COLAB}')\n",
    "\n",
    "# Check if GPU is available\n",
    "DEVICE = \"cuda\" if torch.cuda.is_available() else \"cpu\"\n",
    "print(\"Using \", DEVICE)"
   ]
  },
  {
   "cell_type": "markdown",
   "id": "8c9606c2",
   "metadata": {},
   "source": [
    "### Set Hyperparameters"
   ]
  },
  {
   "cell_type": "code",
   "execution_count": 3,
   "id": "423d18d8",
   "metadata": {},
   "outputs": [],
   "source": [
    "NR_EPOCHS = 50\n",
    "BATCH_SIZE = 4"
   ]
  },
  {
   "cell_type": "markdown",
   "id": "f76ce226",
   "metadata": {},
   "source": [
    "### Set 'train' and 'val' Datasets & Dataloaders"
   ]
  },
  {
   "cell_type": "code",
   "execution_count": 4,
   "id": "78cf0bb6",
   "metadata": {},
   "outputs": [],
   "source": [
    "if IN_COLAB:\n",
    "    pass\n",
    "else:\n",
    "    train_data_path = \"data/processed/train\"\n",
    "    val_data_path = \"data/processed/val\"\n",
    "    test_data_path = \"data/processed/test\"\n",
    "\n",
    "\n",
    "train_dataset = SegmentationDataset(path_name=train_data_path)\n",
    "train_dataloader = DataLoader(train_dataset, batch_size=BATCH_SIZE, shuffle=True)\n",
    "val_dataset = SegmentationDataset(path_name=val_data_path)\n",
    "val_dataloader = DataLoader(val_dataset, batch_size=BATCH_SIZE, shuffle=True)"
   ]
  },
  {
   "cell_type": "markdown",
   "id": "70089986",
   "metadata": {},
   "source": [
    "### Define Model"
   ]
  },
  {
   "cell_type": "code",
   "execution_count": 5,
   "id": "3b744f82",
   "metadata": {},
   "outputs": [],
   "source": [
    "model = smp.FPN( #  Feature Pyramid Network\n",
    "    encoder_name = \"se_resnext50_32x4d\", # Encoder - ResNeXt-50\n",
    "    encoder_weights=\"imagenet\", # Pretrained weights for encoder\n",
    "    classes=6, # Number of output classes\n",
    "    activation=\"sigmoid\" #\n",
    ") \n",
    "\n",
    "model.to(DEVICE)   # Move model to GPU if available\n",
    "\n",
    "optimizer = torch.optim.Adam(model.parameters(), lr=0.0001) # Adam optimizer\n",
    "\n",
    "criterion = nn.CrossEntropyLoss() # Cross-entropy loss\n",
    "# criterion = smp.losses.DiceLoss(mode='multiclass') # Dice loss"
   ]
  },
  {
   "cell_type": "markdown",
   "id": "d6a6c3ff",
   "metadata": {},
   "source": [
    "### Training Loop"
   ]
  },
  {
   "cell_type": "code",
   "execution_count": 6,
   "id": "f504ae4a",
   "metadata": {},
   "outputs": [
    {
     "name": "stdout",
     "output_type": "stream",
     "text": [
      "Epoch: 0: Train Loss: 215.07346761226654, Val Loss: 11.478332757949829\n",
      "Epoch: 1: Train Loss: 198.18486106395721, Val Loss: 11.159059405326843\n",
      "Epoch: 2: Train Loss: 190.6931587457657, Val Loss: 10.659957885742188\n",
      "Epoch: 3: Train Loss: 186.4621922969818, Val Loss: 10.647778391838074\n",
      "Epoch: 4: Train Loss: 184.33936417102814, Val Loss: 10.662045001983643\n",
      "Epoch: 5: Train Loss: 182.80574929714203, Val Loss: 10.603627800941467\n",
      "Epoch: 6: Train Loss: 181.42306697368622, Val Loss: 10.601954936981201\n",
      "Epoch: 7: Train Loss: 180.44062209129333, Val Loss: 10.629018306732178\n",
      "Epoch: 8: Train Loss: 179.79058051109314, Val Loss: 10.572341561317444\n",
      "Epoch: 9: Train Loss: 179.53445076942444, Val Loss: 10.566187977790833\n",
      "Epoch: 10: Train Loss: 178.77402234077454, Val Loss: 10.640004754066467\n",
      "Epoch: 11: Train Loss: 178.1222791671753, Val Loss: 10.520795226097107\n",
      "Epoch: 12: Train Loss: 177.66884624958038, Val Loss: 10.576687812805176\n",
      "Epoch: 13: Train Loss: 180.19193184375763, Val Loss: 10.612848043441772\n",
      "Epoch: 14: Train Loss: 177.5232126712799, Val Loss: 10.573121428489685\n",
      "Epoch: 15: Train Loss: 177.02316451072693, Val Loss: 10.564216017723083\n",
      "Epoch: 16: Train Loss: 176.66688334941864, Val Loss: 10.603505969047546\n",
      "Epoch: 17: Train Loss: 176.6155183315277, Val Loss: 10.572367310523987\n",
      "Epoch: 18: Train Loss: 176.10970175266266, Val Loss: 10.595000743865967\n",
      "Epoch: 19: Train Loss: 176.00609838962555, Val Loss: 10.55989384651184\n",
      "Epoch: 20: Train Loss: 175.6406855583191, Val Loss: 10.608855247497559\n",
      "Epoch: 21: Train Loss: 175.42250514030457, Val Loss: 10.639323592185974\n",
      "Epoch: 22: Train Loss: 175.293683052063, Val Loss: 10.590163469314575\n",
      "Epoch: 23: Train Loss: 175.11195421218872, Val Loss: 10.753797173500061\n",
      "Epoch: 24: Train Loss: 174.96913814544678, Val Loss: 10.617073774337769\n",
      "Epoch: 25: Train Loss: 175.95498752593994, Val Loss: 10.841583609580994\n",
      "Epoch: 26: Train Loss: 175.89073145389557, Val Loss: 10.602558016777039\n",
      "Epoch: 27: Train Loss: 175.2176514863968, Val Loss: 10.557913661003113\n",
      "Epoch: 28: Train Loss: 175.22280979156494, Val Loss: 10.608361840248108\n",
      "Epoch: 29: Train Loss: 174.65012753009796, Val Loss: 10.590693235397339\n",
      "Epoch: 30: Train Loss: 174.3983814716339, Val Loss: 10.574896216392517\n",
      "Epoch: 31: Train Loss: 174.4470421075821, Val Loss: 10.609480261802673\n",
      "Epoch: 32: Train Loss: 174.14229607582092, Val Loss: 10.6126047372818\n",
      "Epoch: 33: Train Loss: 173.96047484874725, Val Loss: 10.53592848777771\n",
      "Epoch: 34: Train Loss: 173.80795884132385, Val Loss: 10.557694792747498\n",
      "Epoch: 35: Train Loss: 173.74337422847748, Val Loss: 10.58849012851715\n",
      "Epoch: 36: Train Loss: 173.65249466896057, Val Loss: 10.588392496109009\n",
      "Epoch: 37: Train Loss: 173.46785306930542, Val Loss: 10.576870322227478\n",
      "Epoch: 38: Train Loss: 173.3614432811737, Val Loss: 10.65613305568695\n",
      "Epoch: 39: Train Loss: 173.40367662906647, Val Loss: 10.589292645454407\n",
      "Epoch: 40: Train Loss: 173.26203227043152, Val Loss: 10.539820075035095\n",
      "Epoch: 41: Train Loss: 173.15902137756348, Val Loss: 10.624622702598572\n",
      "Epoch: 42: Train Loss: 172.62690126895905, Val Loss: 10.568257212638855\n",
      "Epoch: 43: Train Loss: 172.4770609140396, Val Loss: 10.517578125\n",
      "Epoch: 44: Train Loss: 172.5163357257843, Val Loss: 10.568771600723267\n",
      "Epoch: 45: Train Loss: 172.13637053966522, Val Loss: 10.669746041297913\n",
      "Epoch: 46: Train Loss: 171.91954433918, Val Loss: 10.570648312568665\n",
      "Epoch: 47: Train Loss: 171.78530073165894, Val Loss: 10.559192895889282\n",
      "Epoch: 48: Train Loss: 171.68275678157806, Val Loss: 10.55637013912201\n",
      "Epoch: 49: Train Loss: 171.60822904109955, Val Loss: 10.553580403327942\n"
     ]
    }
   ],
   "source": [
    "train_losses = []\n",
    "val_losses = []\n",
    "\n",
    "for epoch in range(NR_EPOCHS):\n",
    "\n",
    "    # Training Phase\n",
    "    model.train()\n",
    "    running_train_loss = 0\n",
    "    running_val_loss = 0\n",
    "\n",
    "    for i, data in enumerate(train_dataloader):\n",
    "        image_i, mask_i = data\n",
    "        image = image_i.to(DEVICE)\n",
    "        mask = mask_i.to(DEVICE)\n",
    "\n",
    "        # Reset gradients\n",
    "        optimizer.zero_grad()\n",
    "\n",
    "        # Forward Pass\n",
    "        output = model(image.float())\n",
    "\n",
    "        # Calculate losses\n",
    "        train_loss = criterion(output.float(), mask.long())\n",
    "\n",
    "        # Back propagation\n",
    "        train_loss.backward()\n",
    "        optimizer.step()  # Update weights\n",
    "\n",
    "        running_train_loss += train_loss.item()\n",
    "\n",
    "    train_losses.append(running_train_loss)\n",
    "\n",
    "    # Validation Phase\n",
    "    model.eval()\n",
    "    for i, data in enumerate(val_dataloader):\n",
    "        image_i, mask_i = data\n",
    "        image = image_i.to(DEVICE)\n",
    "        mask = mask_i.to(DEVICE)\n",
    "\n",
    "        # Forward Pass\n",
    "        output = model(image.float())\n",
    "\n",
    "        # Calculate losses\n",
    "        val_loss = criterion(output.float(), mask.long())\n",
    "        running_val_loss += val_loss.item()\n",
    "\n",
    "    val_losses.append(running_val_loss)\n",
    "\n",
    "    print(f\"Epoch: {epoch}: Train Loss: {np.median(running_train_loss)}, Val Loss: {np.median(running_val_loss)}\")\n"
   ]
  },
  {
   "cell_type": "markdown",
   "id": "6e589a56",
   "metadata": {},
   "source": [
    "### Visualize"
   ]
  },
  {
   "cell_type": "code",
   "execution_count": 7,
   "id": "fea95c83",
   "metadata": {},
   "outputs": [
    {
     "data": {
      "image/png": "[encoded data removed]",
      "text/plain": [
       "<Figure size 640x480 with 1 Axes>"
      ]
     },
     "metadata": {},
     "output_type": "display_data"
    },
    {
     "data": {
      "image/png": "[encoded data removed]",
      "text/plain": [
       "<Figure size 640x480 with 1 Axes>"
      ]
     },
     "metadata": {},
     "output_type": "display_data"
    }
   ],
   "source": [
    "sns.lineplot(x = range(len(train_losses)), y= train_losses).set(title='Train Loss')\n",
    "plt.show()\n",
    "sns.lineplot(x = range(len(train_losses)), y= val_losses).set(title='Validation Loss')\n",
    "plt.show()"
   ]
  },
  {
   "cell_type": "markdown",
   "id": "eb50f16b",
   "metadata": {},
   "source": [
    "### Save Model"
   ]
  },
  {
   "cell_type": "code",
   "execution_count": 8,
   "id": "28d48c8a",
   "metadata": {},
   "outputs": [],
   "source": [
    "torch.save(model.state_dict(), f'models/FPN_epochs_{NR_EPOCHS}_crossentropy_state_dict.pth')"
   ]
  }
 ],
 "metadata": {
  "kernelspec": {
   "display_name": ".venv",
   "language": "python",
   "name": "python3"
  },
  "language_info": {
   "codemirror_mode": {
    "name": "ipython",
    "version": 3
   },
   "file_extension": ".py",
   "mimetype": "text/x-python",
   "name": "python",
   "nbconvert_exporter": "python",
   "pygments_lexer": "ipython3",
   "version": "3.12.3"
  }
 },
 "nbformat": 4,
 "nbformat_minor": 5
}
